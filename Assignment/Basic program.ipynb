{
 "cells": [
  {
   "cell_type": "code",
   "execution_count": 4,
   "id": "ef4b77f7",
   "metadata": {},
   "outputs": [
    {
     "name": "stdout",
     "output_type": "stream",
     "text": [
      "The power of pow(2,4)= 16\n",
      "The power of pow(6,3)= 216\n"
     ]
    }
   ],
   "source": [
    "#Power of the number\n",
    "pow1 = pow(2,4)\n",
    "pow2 = pow(6,3)\n",
    "print(\"The power of pow(2,4)=\" ,pow1)\n",
    "print(\"The power of pow(6,3)=\" ,pow2)\n"
   ]
  },
  {
   "cell_type": "code",
   "execution_count": 5,
   "id": "5bbfb399",
   "metadata": {},
   "outputs": [
    {
     "name": "stdout",
     "output_type": "stream",
     "text": [
      "Enter the principle amount: 400\n",
      "Enter the time: 20\n",
      "Enter the rate: 800\n",
      "Simple interest is: 64000.0\n"
     ]
    }
   ],
   "source": [
    "#Write a program on simple interest\n",
    "p = float(input('Enter the principle amount: '))\n",
    "t = float(input('Enter the time: '))\n",
    "r = float(input('Enter the rate: '))\n",
    "si = (p*t*r)/100\n",
    "print(\"Simple interest is:\", si)"
   ]
  },
  {
   "cell_type": "code",
   "execution_count": 7,
   "id": "0fab4c22",
   "metadata": {},
   "outputs": [
    {
     "name": "stdout",
     "output_type": "stream",
     "text": [
      "Enter No Days Present:30\n",
      "Enter wages per Day:900\n",
      "27810.0\n"
     ]
    }
   ],
   "source": [
    "#write a program on net salary of an employee\n",
    "days=float(input(\"Enter No Days Present:\"))\n",
    "wages=float(input(\"Enter wages per Day:\"))\n",
    "basic=wages*days;\n",
    "HRA=basic*0.1;\n",
    "DA=basic*0.05;\n",
    "netsalary=basic+HRA+DA-PF;\n",
    "print(netsalary)"
   ]
  },
  {
   "cell_type": "code",
   "execution_count": 14,
   "id": "20a8b6f0",
   "metadata": {},
   "outputs": [
    {
     "name": "stdout",
     "output_type": "stream",
     "text": [
      "Please Enter the length of a Rectangle9\n",
      "Please Enter the breadth of a Rectangle4\n",
      " Area of a Rectangle is: 36\n"
     ]
    }
   ],
   "source": [
    "#Write a program on Area of Rectangle\n",
    "length = int(input(\"Please Enter the length of a Rectangle\"))\n",
    "breadth = int(input(\"Please Enter the breadth of a Rectangle\"))\n",
    "area = length * breadth\n",
    "print(\" Area of a Rectangle is:\", area)"
   ]
  },
  {
   "cell_type": "code",
   "execution_count": null,
   "id": "41ec1aa6",
   "metadata": {},
   "outputs": [],
   "source": []
  }
 ],
 "metadata": {
  "kernelspec": {
   "display_name": "Python 3",
   "language": "python",
   "name": "python3"
  },
  "language_info": {
   "codemirror_mode": {
    "name": "ipython",
    "version": 3
   },
   "file_extension": ".py",
   "mimetype": "text/x-python",
   "name": "python",
   "nbconvert_exporter": "python",
   "pygments_lexer": "ipython3",
   "version": "3.8.8"
  }
 },
 "nbformat": 4,
 "nbformat_minor": 5
}
